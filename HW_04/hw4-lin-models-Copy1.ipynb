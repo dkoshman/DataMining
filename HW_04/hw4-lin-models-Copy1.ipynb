{
 "cells": [
  {
   "cell_type": "markdown",
   "metadata": {},
   "source": [
    "# Алгоритмы интеллектуальной обработки больших объемов данных\n",
    "## Домашнее задание №4: Линейные модели\n"
   ]
  },
  {
   "cell_type": "markdown",
   "metadata": {},
   "source": [
    "###### <hr\\>\n",
    "**Общая информация**\n",
    "\n",
    "**Срок сдачи:** 6 декабря 2017, 06:00 <br\\>\n",
    "**Штраф за опоздание:** -2 балла после 06:00 6 декабря, -4 балла после 06:00 13 декабря, -6 баллов после 06:00 20 декабря\n",
    "\n",
    "При отправлении ДЗ указывайте фамилию в названии файла<br\\>\n",
    "\n",
    "Используйте данный Ipython Notebook при оформлении домашнего задания.\n",
    "<hr\\>"
   ]
  },
  {
   "cell_type": "code",
   "execution_count": 11,
   "metadata": {
    "collapsed": true
   },
   "outputs": [],
   "source": [
    "import pandas as pd\n",
    "import numpy as np\n",
    "import matplotlib.pyplot as plt\n",
    "\n",
    "%matplotlib inline\n",
    "\n",
    "plt.style.use('ggplot')\n",
    "plt.rcParams['figure.figsize'] = (12,5)"
   ]
  },
  {
   "cell_type": "markdown",
   "metadata": {},
   "source": [
    "# Определям, что вам досталось"
   ]
  },
  {
   "cell_type": "markdown",
   "metadata": {},
   "source": [
    "<center><img src='https://static1.squarespace.com/static/571a6e39b6aa608067028725/t/577988518419c2d62fb5922f/1467582555915/'></center>"
   ]
  },
  {
   "cell_type": "markdown",
   "metadata": {},
   "source": [
    "Укажите свою фамилию на русском языке в поле ниже."
   ]
  },
  {
   "cell_type": "code",
   "execution_count": 3,
   "metadata": {
    "collapsed": false
   },
   "outputs": [
    {
     "name": "stdout",
     "output_type": "stream",
     "text": [
      "Имплементируйте обучение логистической регрессии с L2 регуляризацией с помощью метода Mini Batch Stochastic Gradient Descent (SGD)\n"
     ]
    }
   ],
   "source": [
    "USER_NAME = u\"Кошман\".lower()\n",
    "REGULARIZATIONS = [\"L1\", \"L2\"]\n",
    "ALGORITHM = [\"\", \"Mini Batch\"]\n",
    "\n",
    "print \"Имплементируйте обучение логистической регрессии с %s регуляризацией с помощью метода %s Stochastic Gradient Descent (SGD)\"\\\n",
    "% (\n",
    "    REGULARIZATIONS[hash(USER_NAME) % 2],\n",
    "    ALGORITHM[hash(USER_NAME[::-1]) % 2]\n",
    ")"
   ]
  },
  {
   "cell_type": "markdown",
   "metadata": {},
   "source": [
    "#### Замечания\n",
    "* В SGD градиент расчитывается по одному случайному объекту, т.е. в алгоритме надо\n",
    "    * Перемешать выборку\n",
    "    * Посчтитать градиент на одном объекте\n",
    "    * Сделать шаг спуска\n",
    "* В Mini Batch SGD - по подвыборке объектов т.е в алгоритме надо\n",
    "    * Перемешать выборку\n",
    "    * Разбить на части (примерно) одинакового размера - мини батчи\n",
    "    * Почитать градиент по мини батчам\n",
    "    * Сделать шаг спуска\n",
    "* Сделайте убывающую скорость спуска, например `alpha/n_epoch` или `alpha/n_iter` или `alpha/n_batch` или ...\n",
    "* Для отладки работы алгоритма, реализуйте возможность сохранения или вывода ошибки модели после очередной итерации/батча/эпохи.\n",
    "* Правило останова - максимальное количество эпох\n",
    "    \n",
    "Эпохой в SGD и MB-SGD называется один проход по **всем** объектам в обучающей выборке (тем или иным способом)"
   ]
  },
  {
   "cell_type": "markdown",
   "metadata": {},
   "source": [
    "### Примечание для случая L1-регуляризации:\n",
    "\n",
    "При расчете производной по функции потерь\n",
    "$$ L(w_0,w_1,\\dots) = - \\frac{1}{N}\\left[\\sum_i \\log(\\sigma(y^{(i)} g(x^{(i)}))\\right] + \\frac{1}{C}\\sum_{j=1}^{m}|w_j| $$\n",
    "могут возникнуть сомнения по поводу производной части с модулями. \n",
    "\n",
    "Вам на выбор предлагаются следующией варианты:\n",
    "* Считать субградиент $\\partial|w_j| = sign(w_j)$ (проще, но с большой вероятностью не приведет к занулению коэффициентов)\n",
    "* Метод SGD-Clipping из [статьи](https://www.aclweb.org/anthology/P/P09/P09-1054.pdf) - раздел 3.1, страница 479, правая колонка снизу (чуть сложнее, но зато должно занулять)\n",
    "* Cumulative Penalty из той же [статьи](https://www.aclweb.org/anthology/P/P09/P09-1054.pdf) - раздел 3.2"
   ]
  },
  {
   "cell_type": "markdown",
   "metadata": {},
   "source": [
    "# Реализация модели"
   ]
  },
  {
   "cell_type": "markdown",
   "metadata": {},
   "source": [
    "## Вывод правила обновления весов (1 балл)\n",
    "\n",
    "Выведите правило обновления весов на каждом шаге алгоритма. Иными словами, посчитайте производную (градиент) функции потерь с регуляризацией. Формулы надо оформлять в формате LaTeX.\n",
    "\n",
    "$$ L(w_0,w_1,\\dots) = - \\frac{1}{N}\\left[\\sum_i \\log(\\sigma(y^{(i)} g(x^{(i)}))\\right] + \\frac{1}{C}\\sum_{j=1}^{m}w_j^{2} = \\frac{1}{N}\\sum_i \\log(1 + e^{-y^{(i)} (\\langle w, x^{(i)} \\rangle + w_0) }) + \\frac{1}{C}\\sum_{j=1}^{m}w_j^{2}$$"
   ]
  },
  {
   "cell_type": "markdown",
   "metadata": {},
   "source": [
    "$$ \\frac{\\partial L}{\\partial w_0} = \\frac{1}{N}\\sum_i \\frac{-y^{(i)}}{1 + e^{y^{(i)} (\\langle w, x^{(i)} \\rangle + w_0) )}}$$\n",
    "$$ \\frac{\\partial L}{\\partial w_j} = \\frac{1}{N}\\sum_i \\frac{-y^{(i)}x^{(i)}_j}{1 + e^{y^{(i)} (\\langle w, x^{(i)} \\rangle + w_0) )}} + \\frac{2}{C}w_i, i>0 $$"
   ]
  },
  {
   "cell_type": "markdown",
   "metadata": {},
   "source": [
    "## Имплементация (5 баллов)"
   ]
  },
  {
   "cell_type": "code",
   "execution_count": 64,
   "metadata": {
    "collapsed": false
   },
   "outputs": [],
   "source": [
    "X = np.concatenate((np.ones(X.shape[0]).reshape(-1, 1), X), axis=1)\n",
    "w = np.ones(X.shape[1])\n",
    "C = 1."
   ]
  },
  {
   "cell_type": "code",
   "execution_count": 105,
   "metadata": {
    "collapsed": false
   },
   "outputs": [
    {
     "data": {
      "text/plain": [
       "(400,)"
      ]
     },
     "execution_count": 105,
     "metadata": {},
     "output_type": "execute_result"
    }
   ],
   "source": [
    "margin.shape"
   ]
  },
  {
   "cell_type": "code",
   "execution_count": 111,
   "metadata": {
    "collapsed": false
   },
   "outputs": [
    {
     "data": {
      "text/plain": [
       "array([ 0.1878214 , -0.00659735,  0.05992654])"
      ]
     },
     "execution_count": 111,
     "metadata": {},
     "output_type": "execute_result"
    }
   ],
   "source": [
    "dL_dw"
   ]
  },
  {
   "cell_type": "code",
   "execution_count": 110,
   "metadata": {
    "collapsed": false
   },
   "outputs": [
    {
     "data": {
      "text/plain": [
       "array([[ 1.        ,  1.        ,  1.        , ..., -1.        ,\n",
       "        -1.        , -1.        ],\n",
       "       [ 5.10023581,  7.8613398 ,  3.03408318, ...,  1.1568567 ,\n",
       "         0.57961173,  0.5845925 ],\n",
       "       [-2.69111611, -0.59027583, -3.8758687 , ...,  1.07797884,\n",
       "         1.85617983,  1.33371091]])"
      ]
     },
     "execution_count": 110,
     "metadata": {},
     "output_type": "execute_result"
    }
   ],
   "source": [
    "multiplier.T"
   ]
  },
  {
   "cell_type": "code",
   "execution_count": 97,
   "metadata": {
    "collapsed": false
   },
   "outputs": [
    {
     "data": {
      "text/plain": [
       "array([ 0.64690529,  0.08791119,  0.07557807])"
      ]
     },
     "execution_count": 97,
     "metadata": {},
     "output_type": "execute_result"
    }
   ],
   "source": [
    "multiplier = y.reshape(-1, 1) * X\n",
    "margin = np.dot(X, w) * y\n",
    "denominator = 1 + np.e ** margin\n",
    "dL_dw = (-1. / X.shape[0]) * (multiplier.T / denominator).sum(axis=1)\n",
    "dL_dw += (2. / C) * np.concatenate(([0], w[1:]))\n",
    "w = w - 0.05 * dL_dw\n",
    "w"
   ]
  },
  {
   "cell_type": "code",
   "execution_count": 222,
   "metadata": {
    "collapsed": false
   },
   "outputs": [
    {
     "data": {
      "text/plain": [
       "(400L,)"
      ]
     },
     "execution_count": 222,
     "metadata": {},
     "output_type": "execute_result"
    }
   ],
   "source": [
    "y.shape"
   ]
  },
  {
   "cell_type": "code",
   "execution_count": 254,
   "metadata": {
    "collapsed": false
   },
   "outputs": [
    {
     "data": {
      "text/plain": [
       "(200, 7)"
      ]
     },
     "execution_count": 254,
     "metadata": {},
     "output_type": "execute_result"
    }
   ],
   "source": [
    "((np.dot(np.concatenate((np.ones(X.shape[0]).reshape(-1, 1), X), axis=1), msgd.w) > 0) & (y > 0)).sum(), \\\n",
    "((np.dot(np.concatenate((np.ones(X.shape[0]).reshape(-1, 1), X), axis=1), msgd.w) < 0) & (y < 0)).sum()"
   ]
  },
  {
   "cell_type": "code",
   "execution_count": 79,
   "metadata": {
    "collapsed": false
   },
   "outputs": [
    {
     "name": "stderr",
     "output_type": "stream",
     "text": [
      "C:\\Users\\Surface\\Anaconda3\\envs\\ipykernel_py2\\lib\\site-packages\\ipykernel_launcher.py:1: RuntimeWarning: divide by zero encountered in divide\n",
      "  \"\"\"Entry point for launching an IPython kernel.\n"
     ]
    },
    {
     "data": {
      "text/plain": [
       "array([ inf,  inf,  nan])"
      ]
     },
     "execution_count": 79,
     "metadata": {},
     "output_type": "execute_result"
    }
   ],
   "source": [
    "(multiplier.T / denominator).sum(axis=1)"
   ]
  },
  {
   "cell_type": "code",
   "execution_count": 50,
   "metadata": {
    "collapsed": false
   },
   "outputs": [
    {
     "data": {
      "text/plain": [
       "((400L,), (400L, 3L), (400L,))"
      ]
     },
     "execution_count": 50,
     "metadata": {},
     "output_type": "execute_result"
    }
   ],
   "source": [
    "denominator.shape, multiplier.shape, margin.shape"
   ]
  },
  {
   "cell_type": "code",
   "execution_count": 40,
   "metadata": {
    "collapsed": false
   },
   "outputs": [],
   "source": [
    "dL_dw = (-1. / X.shape[0]) * (multiplier.T / denominator).sum(axis=1)"
   ]
  },
  {
   "cell_type": "code",
   "execution_count": 44,
   "metadata": {
    "collapsed": true
   },
   "outputs": [],
   "source": [
    "C = 1"
   ]
  },
  {
   "cell_type": "code",
   "execution_count": 48,
   "metadata": {
    "collapsed": false
   },
   "outputs": [],
   "source": [
    "dL_dw += (2. / C) * np.concatenate(([0], w[1:]))"
   ]
  },
  {
   "cell_type": "code",
   "execution_count": 49,
   "metadata": {
    "collapsed": false
   },
   "outputs": [
    {
     "data": {
      "text/plain": [
       "array([ -360.90133972, -2616.69654483,  -222.51560093])"
      ]
     },
     "execution_count": 49,
     "metadata": {},
     "output_type": "execute_result"
    }
   ],
   "source": [
    "dL_dw"
   ]
  },
  {
   "cell_type": "code",
   "execution_count": 9,
   "metadata": {
    "collapsed": true
   },
   "outputs": [],
   "source": [
    "from sklearn.base import BaseEstimator, ClassifierMixin\n",
    "\n",
    "class MySGDClassifier(BaseEstimator, ClassifierMixin):\n",
    "    \"\"\"\n",
    "    Предполагается, что в выборке всегда 2 класса\n",
    "    \"\"\"\n",
    "    \n",
    "    def __init__(self, C=1, alpha=0.01, max_epoch=10):\n",
    "        \"\"\"\n",
    "        C - коэф. регуляризации\n",
    "        alpha - скорость спуска\n",
    "        max_epoch - максимальное количество эпох\n",
    "        \"\"\"\n",
    "        \n",
    "        self.C = C\n",
    "        self.alpha = alpha\n",
    "        self.max_epoch = max_epoch\n",
    "    \n",
    "    def fit(self, X, y=None):\n",
    "        '''\n",
    "        Обучение модели\n",
    "        '''\n",
    "        X = np.concatenate((np.ones(X.shape[0]).reshape(-1, 1), X), axis=1)\n",
    "        w = np.zeros(X.shape[1])\n",
    "        for epoch in range(self.max_epoch):\n",
    "            multiplier = y.reshape(-1, 1) * X\n",
    "            margin = np.dot(X, w) * y\n",
    "            denominator = 1 + np.e ** margin\n",
    "            dL_dw = (-1. / X.shape[0]) * (multiplier.T / denominator).sum(axis=1)\n",
    "            dL_dw += (2. / self.C) * np.concatenate(([0], w[1:]))\n",
    "            w += -self.alpha * dL_dw\n",
    "        self.w = w\n",
    "        return self\n",
    "    \n",
    "    def partial_fit(self, X, y=None):\n",
    "        '''\n",
    "        По желанию - метод дообучения модели на новых данных\n",
    "        '''\n",
    "    \n",
    "        return self\n",
    "        \n",
    "    def predict(self, X):\n",
    "        '''\n",
    "        Возвращение метки класса\n",
    "        '''\n",
    "        ready_x = np.concatenate((np.ones(X.shape[0]).reshape(-1, 1), X), axis=1)\n",
    "        return np.where(np.dot(ready_x, self.w) > 0, 1, -1)\n",
    "    \n",
    "    @staticmethod\n",
    "    def sigmoid(x):\n",
    "        return 1. / (1 + np.e ** (-x))\n",
    "    \n",
    "    def predict_proba(self, X):\n",
    "        '''\n",
    "        Возвращение вероятности каждого из классов\n",
    "        '''\n",
    "        ready_x = np.concatenate((np.ones(X.shape[0]).reshape(-1, 1), X), axis=1)\n",
    "        \n",
    "        return self.sigmoid(np.dot(ready_x, self.w))"
   ]
  },
  {
   "cell_type": "markdown",
   "metadata": {},
   "source": [
    "## Проверка на синтетических данных (1 балл)"
   ]
  },
  {
   "cell_type": "markdown",
   "metadata": {},
   "source": [
    "Запустите ваш алгоритм на синтетических данных. \n",
    "Выведите полученные веса и нарисуйте разделяющую границу между классами."
   ]
  },
  {
   "cell_type": "code",
   "execution_count": 114,
   "metadata": {
    "collapsed": false
   },
   "outputs": [
    {
     "data": {
      "text/plain": [
       "array([-0.69545843, -0.04725919,  0.29234739, -0.07286841])"
      ]
     },
     "execution_count": 114,
     "metadata": {},
     "output_type": "execute_result"
    }
   ],
   "source": [
    "msgd = MySGDClassifier(max_epoch=1001, C=2.)\n",
    "msgd.fit(X, y)\n",
    "msgd.w"
   ]
  },
  {
   "cell_type": "code",
   "execution_count": 450,
   "metadata": {
    "collapsed": false
   },
   "outputs": [
    {
     "data": {
      "text/plain": [
       "0.7310585786300049"
      ]
     },
     "execution_count": 450,
     "metadata": {},
     "output_type": "execute_result"
    }
   ],
   "source": [
    "1. / (1 + np.e ** (-1))"
   ]
  },
  {
   "cell_type": "code",
   "execution_count": 453,
   "metadata": {
    "collapsed": false
   },
   "outputs": [
    {
     "data": {
      "text/plain": [
       "0.8419137385122839"
      ]
     },
     "execution_count": 453,
     "metadata": {},
     "output_type": "execute_result"
    }
   ],
   "source": [
    "msgd.predict_proba(X).max()"
   ]
  },
  {
   "cell_type": "code",
   "execution_count": 451,
   "metadata": {
    "collapsed": true
   },
   "outputs": [
    {
     "data": {
      "text/plain": [
       "array([ 1,  1,  1,  1,  1,  1,  1,  1,  1,  1,  1,  1,  1,  1,  1,  1, -1,\n",
       "        1,  1,  1, -1,  1,  1,  1,  1,  1,  1,  1,  1,  1,  1, -1,  1,  1,\n",
       "        1,  1,  1,  1,  1,  1,  1, -1,  1,  1,  1,  1,  1,  1,  1,  1,  1,\n",
       "        1,  1,  1,  1,  1,  1,  1,  1,  1,  1,  1,  1,  1,  1,  1,  1,  1,\n",
       "        1,  1,  1,  1,  1,  1,  1,  1,  1,  1,  1,  1,  1,  1,  1, -1,  1,\n",
       "        1,  1,  1,  1,  1, -1, -1, -1,  1,  1,  1,  1,  1,  1,  1,  1,  1,\n",
       "       -1,  1,  1,  1,  1,  1,  1,  1,  1,  1,  1,  1,  1,  1,  1,  1, -1,\n",
       "        1,  1,  1, -1,  1, -1,  1,  1,  1, -1,  1,  1,  1,  1,  1,  1, -1,\n",
       "        1,  1,  1,  1,  1,  1,  1,  1,  1,  1,  1,  1,  1,  1,  1,  1,  1,\n",
       "       -1,  1,  1,  1,  1,  1,  1,  1,  1,  1,  1,  1,  1,  1,  1,  1,  1,\n",
       "        1, -1,  1,  1,  1, -1,  1,  1,  1,  1,  1,  1,  1,  1,  1,  1,  1,\n",
       "        1, -1,  1,  1, -1, -1, -1,  1,  1, -1,  1,  1,  1, -1,  1, -1, -1,\n",
       "       -1, -1, -1,  1, -1,  1,  1, -1, -1, -1, -1, -1,  1, -1, -1, -1, -1,\n",
       "       -1, -1, -1, -1, -1, -1,  1, -1, -1, -1, -1,  1, -1, -1, -1, -1,  1,\n",
       "       -1,  1,  1, -1, -1,  1, -1, -1,  1,  1, -1, -1, -1, -1, -1, -1, -1,\n",
       "        1, -1, -1,  1,  1, -1, -1, -1,  1, -1, -1,  1, -1, -1, -1, -1,  1,\n",
       "       -1, -1, -1, -1, -1,  1, -1, -1,  1, -1, -1,  1, -1, -1,  1, -1, -1,\n",
       "        1, -1, -1, -1, -1, -1,  1, -1, -1, -1, -1, -1, -1, -1, -1, -1, -1,\n",
       "        1, -1, -1, -1, -1, -1, -1,  1, -1, -1, -1, -1, -1,  1,  1, -1, -1,\n",
       "       -1,  1, -1, -1, -1, -1, -1, -1, -1, -1,  1, -1, -1, -1, -1, -1,  1,\n",
       "        1,  1, -1, -1,  1,  1, -1,  1, -1,  1, -1, -1,  1, -1,  1, -1, -1,\n",
       "       -1, -1, -1, -1, -1, -1, -1,  1, -1, -1, -1, -1, -1, -1,  1, -1, -1,\n",
       "       -1, -1,  1,  1, -1, -1, -1, -1, -1, -1,  1, -1, -1, -1, -1, -1,  1,\n",
       "       -1, -1, -1, -1, -1,  1, -1, -1, -1])"
      ]
     },
     "execution_count": 451,
     "metadata": {},
     "output_type": "execute_result"
    }
   ],
   "source": [
    "msgd.predict(X)"
   ]
  },
  {
   "cell_type": "code",
   "execution_count": 454,
   "metadata": {
    "collapsed": false
   },
   "outputs": [
    {
     "data": {
      "text/plain": [
       "339"
      ]
     },
     "execution_count": 454,
     "metadata": {},
     "output_type": "execute_result"
    }
   ],
   "source": [
    "(msgd.predict(X) == y).sum()"
   ]
  },
  {
   "cell_type": "code",
   "execution_count": 435,
   "metadata": {
    "collapsed": true
   },
   "outputs": [
    {
     "data": {
      "text/plain": [
       "array([  3.87971429e-01,   7.40466068e-01,   1.11748648e-01,\n",
       "         2.55379371e-01,   3.42073373e-01,   5.59740088e-01,\n",
       "         3.05798239e-01,   3.40565627e-01,   2.58473789e-01,\n",
       "         9.67191670e-02,   3.28287201e-01,   1.33558383e-01,\n",
       "         2.54959058e-02,   2.24873171e-01,   5.98502102e-01,\n",
       "         3.42144261e-01,  -1.62276593e-01,   2.84304758e-01,\n",
       "         5.36670160e-01,   1.90429802e-01,  -5.28715628e-02,\n",
       "         6.12688930e-01,   1.59795360e-01,   3.86798206e-01,\n",
       "         1.77025070e-01,   3.16905123e-01,   9.42278016e-03,\n",
       "         3.47593156e-01,   3.24545707e-01,   1.71842214e-01,\n",
       "         1.71507048e-01,  -1.08826955e-01,   1.84809991e-01,\n",
       "         3.13376481e-01,   2.48783379e-01,   3.06456403e-01,\n",
       "         4.08811857e-02,   1.33289252e-01,   1.22007183e-01,\n",
       "         2.64955845e-01,   4.14023192e-01,  -3.74692117e-02,\n",
       "         6.83715231e-01,   2.55475593e-01,   4.47554305e-01,\n",
       "         4.98732280e-01,   4.64686757e-01,   4.13815314e-01,\n",
       "         6.23443569e-01,   3.46247537e-01,   3.71396269e-02,\n",
       "         4.25197928e-01,   6.24948939e-01,   9.96254841e-02,\n",
       "         6.10792852e-01,   4.93057987e-01,   6.26174579e-01,\n",
       "         4.17174375e-01,   2.54566853e-01,   4.64100252e-01,\n",
       "         4.86822484e-02,   5.37811875e-01,   2.13440056e-01,\n",
       "         6.24819728e-01,   3.61378638e-01,   3.50978399e-01,\n",
       "         2.50700916e-01,   3.82200819e-01,   2.34247099e-01,\n",
       "         5.04692189e-02,   3.12213186e-01,   3.94453061e-01,\n",
       "         5.14096704e-01,   4.64282292e-01,   1.34304541e-01,\n",
       "         6.06734502e-01,   7.51196377e-02,   1.24731592e-01,\n",
       "         7.19138483e-02,   1.43447031e-01,   6.39454589e-01,\n",
       "         3.03733111e-01,   4.01041144e-01,  -7.68869941e-02,\n",
       "         3.56312344e-01,   3.49804142e-01,   1.51815486e-01,\n",
       "         3.73002047e-01,   1.01326838e-01,   2.53421123e-01,\n",
       "        -2.58882910e-02,  -2.05118132e-01,  -4.66914155e-02,\n",
       "         2.43760326e-01,   5.54987500e-01,   2.82421341e-01,\n",
       "         2.40854226e-02,   2.40317390e-01,   4.48171457e-01,\n",
       "         5.87818910e-01,   2.03636256e-01,   4.22538751e-01,\n",
       "        -4.93247199e-02,   1.11543169e-01,   2.48920422e-01,\n",
       "         3.49223925e-01,   1.87379284e-01,   1.54289789e-01,\n",
       "         3.37922834e-01,   3.11131686e-01,   1.66965721e-01,\n",
       "         3.47158616e-01,   2.34785824e-01,   3.12628021e-01,\n",
       "         1.98065456e-01,   1.25098328e-01,   3.31872850e-01,\n",
       "         3.90033052e-01,  -1.19080328e-01,   4.09606226e-01,\n",
       "         1.64770830e-01,   1.97885733e-01,  -8.56847052e-02,\n",
       "         5.09810627e-01,  -5.62200208e-02,   1.58415218e-01,\n",
       "         2.00591749e-01,   4.20039441e-01,  -3.71463968e-02,\n",
       "         3.44475090e-01,   1.28413352e-01,   2.35619244e-01,\n",
       "         2.50029883e-01,   2.92968026e-01,   2.73321640e-01,\n",
       "        -2.89501073e-01,   3.90867016e-01,   1.65665146e-01,\n",
       "         2.50783192e-01,   6.27371405e-01,   4.65303336e-01,\n",
       "         5.54865300e-01,   3.92227965e-01,   4.79935116e-01,\n",
       "         5.42911890e-01,   1.48053602e-01,   1.06216844e-01,\n",
       "         4.88281599e-01,   3.82136238e-01,   3.26248065e-01,\n",
       "         5.63716612e-01,   1.20843591e-01,   1.85449128e-01,\n",
       "        -4.53768777e-02,   2.47125375e-01,   4.76364018e-01,\n",
       "         8.46839974e-02,   2.70801851e-01,   2.02425714e-01,\n",
       "         2.38284763e-01,   7.84885869e-02,   8.82732429e-02,\n",
       "         1.68607969e-01,   7.14451444e-01,   4.34453969e-01,\n",
       "         4.00857842e-02,   4.17813223e-02,   3.15980527e-01,\n",
       "         3.07745851e-01,   5.80010531e-01,   1.97273654e-01,\n",
       "        -1.90068279e-03,   1.93495303e-01,   2.83945120e-01,\n",
       "         3.47263455e-01,  -4.91572592e-02,   1.57090233e-01,\n",
       "         1.39299716e-01,   1.17431624e-01,   3.74863553e-01,\n",
       "         2.80317531e-01,   3.54386553e-01,   2.93774330e-01,\n",
       "         1.76749151e-01,   2.63266883e-02,   6.77318172e-02,\n",
       "         2.32728455e-01,   3.62852960e-01,  -3.98620823e-02,\n",
       "         4.34481585e-01,   2.96343851e-01,  -3.42415320e-03,\n",
       "        -7.28406359e-02,  -6.17418040e-02,   3.37223153e-01,\n",
       "         2.31097235e-01,  -7.47740793e-02,   9.99146843e-02,\n",
       "         5.14688983e-01,   4.71917341e-01,  -6.31367842e-01,\n",
       "         2.18150435e-02,  -4.21104043e-01,  -5.36085636e-02,\n",
       "        -4.72300092e-01,  -2.39554089e-01,  -3.32193343e-01,\n",
       "         2.82975056e-01,  -1.07662658e-01,   5.37454965e-01,\n",
       "         1.13904092e-01,  -5.43336640e-01,  -2.08688252e-01,\n",
       "        -8.19643700e-01,  -2.35808698e-01,  -6.93158072e-01,\n",
       "         1.73024277e-02,  -2.93314964e-01,  -6.74852757e-02,\n",
       "        -5.05980298e-02,  -6.08108599e-01,  -1.72704617e-01,\n",
       "        -9.19343080e-02,  -4.04336597e-01,  -3.80201496e-01,\n",
       "        -1.65499720e-01,  -5.29365968e-02,   4.16147538e-01,\n",
       "        -9.14545426e-01,  -1.91895407e-01,  -5.78582990e-01,\n",
       "        -2.38039582e-01,   3.79444195e-01,  -6.03613364e-01,\n",
       "        -5.41219604e-01,  -7.16525469e-01,  -4.60535264e-01,\n",
       "         3.71358518e-01,  -2.30707875e-01,   1.24375867e-01,\n",
       "         2.12295306e-01,  -4.90672852e-01,  -8.10009178e-01,\n",
       "         2.07653277e-01,  -1.58294580e-01,  -4.90877415e-01,\n",
       "         3.45393820e-01,   2.37540719e-01,  -4.72314779e-01,\n",
       "        -4.12142400e-01,  -1.55255308e-01,  -8.69862587e-02,\n",
       "        -4.36877166e-01,  -9.39228973e-01,  -5.16770720e-02,\n",
       "         3.31270687e-01,  -9.99707283e-01,  -2.78161848e-01,\n",
       "         1.69895953e-01,   3.28179868e-01,  -5.08561374e-01,\n",
       "        -7.56468512e-01,  -4.20549599e-01,   3.49041032e-01,\n",
       "        -3.82773019e-01,  -4.90395446e-01,   1.97167232e-02,\n",
       "        -6.00835138e-01,  -3.09473177e-01,  -2.78827378e-01,\n",
       "        -5.15665745e-01,   1.73054183e-01,  -4.04651837e-01,\n",
       "        -7.45191991e-01,  -1.84182792e-01,  -1.56677306e-01,\n",
       "        -1.23260359e-01,   3.48201029e-02,  -6.19536861e-01,\n",
       "        -6.62376664e-01,   1.26196642e-01,  -6.80314438e-01,\n",
       "        -2.84365571e-01,   2.33087885e-02,  -6.24549767e-02,\n",
       "        -6.48712296e-01,   1.03709235e-02,  -2.11949877e-01,\n",
       "        -6.68189260e-01,   8.39098177e-02,  -7.39176673e-01,\n",
       "        -1.90315280e-01,  -4.41829248e-01,  -1.24837815e-01,\n",
       "        -1.13917771e+00,   6.12801458e-03,  -5.56191754e-01,\n",
       "        -4.41669254e-02,  -3.55577548e-01,  -4.25176957e-01,\n",
       "        -3.65596416e-01,  -3.10259787e-01,  -6.24188198e-01,\n",
       "        -6.99618464e-01,  -2.99153837e-01,  -8.83861058e-01,\n",
       "         1.45538744e-01,  -1.21435678e-01,  -8.04847218e-02,\n",
       "        -4.12465937e-01,  -2.01944954e-01,  -3.36755020e-01,\n",
       "        -6.23415326e-01,   2.90345889e-01,  -2.22631704e-01,\n",
       "        -3.65551386e-01,  -2.35350925e-01,  -1.78066091e-01,\n",
       "        -3.01601003e-01,   3.13954645e-01,   1.57084760e-01,\n",
       "        -3.12486452e-01,  -5.11033486e-01,  -5.31356583e-02,\n",
       "         1.20003845e-01,  -8.16145136e-01,  -1.05416834e-02,\n",
       "        -4.63426093e-02,  -5.95631899e-01,  -5.43588786e-01,\n",
       "        -7.31169322e-01,  -1.05845906e-01,  -4.73641598e-01,\n",
       "         8.75224609e-02,  -4.56229671e-01,  -8.38693573e-01,\n",
       "        -8.09361029e-01,  -6.33679494e-02,  -8.98668987e-02,\n",
       "         1.47631553e-01,   1.08481971e-03,   1.63848920e-01,\n",
       "        -1.12567684e+00,  -2.96659630e-01,   4.52065561e-01,\n",
       "         1.12725425e-01,  -9.75624134e-01,   1.84881804e-03,\n",
       "        -4.96781650e-01,   1.26953205e-01,  -8.05809796e-01,\n",
       "        -4.17518223e-02,   4.29276973e-01,  -5.88075679e-02,\n",
       "         6.80522120e-02,  -1.43955236e-01,  -4.15846950e-01,\n",
       "        -9.12060635e-03,  -4.83504677e-01,  -1.89689906e-01,\n",
       "        -4.23763924e-01,  -2.88930911e-01,  -7.42102565e-01,\n",
       "        -2.50282868e-02,   9.49218422e-02,  -5.30525114e-01,\n",
       "        -5.97417731e-01,  -4.08981473e-01,  -4.75863551e-01,\n",
       "        -5.09019447e-01,  -7.39313104e-01,   5.65434872e-02,\n",
       "        -1.89557316e-01,  -7.77026030e-03,  -4.45449488e-01,\n",
       "        -5.45652171e-01,   3.43705103e-01,   1.63887407e-02,\n",
       "        -2.94678921e-01,  -6.46980645e-01,  -2.16390181e-01,\n",
       "        -7.92394509e-02,  -3.97450601e-01,  -2.24766027e-01,\n",
       "         5.01920448e-02,  -2.93561223e-01,  -3.18626521e-01,\n",
       "        -7.80873157e-01,  -3.12134472e-01,  -5.16403731e-01,\n",
       "         1.94500019e-01,  -4.83539632e-01,  -8.73406991e-02,\n",
       "        -9.87766246e-04,  -4.61545455e-01,  -3.58887882e-01,\n",
       "         6.33688775e-04,  -6.15699168e-01,  -5.02877370e-01,\n",
       "        -5.20427467e-01])"
      ]
     },
     "execution_count": 435,
     "metadata": {},
     "output_type": "execute_result"
    }
   ],
   "source": [
    "np.dot(np.concatenate((np.ones(X.shape[0]).reshape(-1, 1), X), axis=1), msgd.w)"
   ]
  },
  {
   "cell_type": "code",
   "execution_count": 240,
   "metadata": {
    "collapsed": false
   },
   "outputs": [
    {
     "data": {
      "text/plain": [
       "-4.1094286229740176"
      ]
     },
     "execution_count": 240,
     "metadata": {},
     "output_type": "execute_result"
    }
   ],
   "source": [
    "x_x = 4\n",
    "y_y = -msgd.w[1] * x_x - msgd.w[0]\n",
    "y_y"
   ]
  },
  {
   "cell_type": "code",
   "execution_count": 235,
   "metadata": {
    "collapsed": false
   },
   "outputs": [
    {
     "data": {
      "text/plain": [
       "-5.2111158903711896"
      ]
     },
     "execution_count": 235,
     "metadata": {},
     "output_type": "execute_result"
    }
   ],
   "source": [
    "np.dot(msgd.w[:3], [1, -4, -4])"
   ]
  },
  {
   "cell_type": "code",
   "execution_count": 231,
   "metadata": {
    "collapsed": false
   },
   "outputs": [
    {
     "data": {
      "text/plain": [
       "array([-4.        , -3.75510204, -3.51020408, -3.26530612, -3.02040816,\n",
       "       -2.7755102 , -2.53061224, -2.28571429, -2.04081633, -1.79591837,\n",
       "       -1.55102041, -1.30612245, -1.06122449, -0.81632653, -0.57142857,\n",
       "       -0.32653061, -0.08163265,  0.16326531,  0.40816327,  0.65306122,\n",
       "        0.89795918,  1.14285714,  1.3877551 ,  1.63265306,  1.87755102,\n",
       "        2.12244898,  2.36734694,  2.6122449 ,  2.85714286,  3.10204082,\n",
       "        3.34693878,  3.59183673,  3.83673469,  4.08163265,  4.32653061,\n",
       "        4.57142857,  4.81632653,  5.06122449,  5.30612245,  5.55102041,\n",
       "        5.79591837,  6.04081633,  6.28571429,  6.53061224,  6.7755102 ,\n",
       "        7.02040816,  7.26530612,  7.51020408,  7.75510204,  8.        ])"
      ]
     },
     "execution_count": 231,
     "metadata": {},
     "output_type": "execute_result"
    }
   ],
   "source": [
    "np.linspace(-4, 8)"
   ]
  },
  {
   "cell_type": "code",
   "execution_count": 230,
   "metadata": {
    "collapsed": false
   },
   "outputs": [
    {
     "data": {
      "text/plain": [
       "[<matplotlib.lines.Line2D at 0xae9e978>]"
      ]
     },
     "execution_count": 230,
     "metadata": {},
     "output_type": "execute_result"
    },
    {
     "data": {
      "image/png": "[encoded data removed]",
      "text/plain": [
       "<matplotlib.figure.Figure at 0xac570b8>"
      ]
     },
     "metadata": {},
     "output_type": "display_data"
    }
   ],
   "source": [
    "plt.plot(X[:, :1], np.dot(np.concatenate((np.ones(X.shape[0]).reshape(-1, 1), X), axis=1), msgd.w))"
   ]
  },
  {
   "cell_type": "code",
   "execution_count": 7,
   "metadata": {
    "collapsed": true
   },
   "outputs": [],
   "source": [
    "np.random.seed(0)\n",
    "\n",
    "C1 = np.array([[0., -0.8], [1.5, 0.8]])\n",
    "C2 = np.array([[1., -0.7], [2., 0.7]])\n",
    "gauss1 = np.dot(np.random.randn(200, 2) + np.array([5, 3]), C1)\n",
    "gauss2 = np.dot(np.random.randn(200, 2) + np.array([1.5, 0]), C2)\n",
    "\n",
    "X = np.vstack([gauss1, gauss2])\n",
    "y = np.r_[np.ones(200), -np.ones(200)]"
   ]
  },
  {
   "cell_type": "code",
   "execution_count": 479,
   "metadata": {
    "collapsed": false
   },
   "outputs": [
    {
     "data": {
      "text/plain": [
       "array([ 9.41602213, -2.79409653,  1.        ])"
      ]
     },
     "execution_count": 479,
     "metadata": {},
     "output_type": "execute_result"
    }
   ],
   "source": [
    "msgd.w / msgd.w[2]"
   ]
  },
  {
   "cell_type": "code",
   "execution_count": 2,
   "metadata": {
    "collapsed": true
   },
   "outputs": [],
   "source": [
    "from ipywidgets import interact, IntSlider, fixed, FloatSlider"
   ]
  },
  {
   "cell_type": "code",
   "execution_count": 63,
   "metadata": {
    "collapsed": false
   },
   "outputs": [
    {
     "name": "stdout",
     "output_type": "stream",
     "text": [
      "0.66\n",
      "[-0.004251    0.09429502 -0.01102914]\n"
     ]
    },
    {
     "data": {
      "image/png": "[encoded data removed]",
      "text/plain": [
       "<matplotlib.figure.Figure at 0x2508d11128>"
      ]
     },
     "metadata": {},
     "output_type": "display_data"
    }
   ],
   "source": [
    "msgd = MySGDClassifier(max_epoch=3, C=1., alpha=0.05)\n",
    "plt.scatter(X[:,0], X[:,1], c=y)\n",
    "msgd.fit(X, y)\n",
    "space = np.linspace(X[:, 0].min(), X[:, 0].max())\n",
    "space_y = -(msgd.w[0] + msgd.w[1] * space) / msgd.w[2]\n",
    "plt.plot(space, space_y)\n",
    "print((msgd.predict(X) == y).sum() / y.shape[0])\n",
    "print(msgd.w)"
   ]
  },
  {
   "cell_type": "markdown",
   "metadata": {},
   "source": [
    "## Анализ сходимости (2 балла)"
   ]
  },
  {
   "cell_type": "markdown",
   "metadata": {},
   "source": [
    "Для следующих заданий используйте датасет ниже"
   ]
  },
  {
   "cell_type": "code",
   "execution_count": 3,
   "metadata": {
    "collapsed": true
   },
   "outputs": [],
   "source": [
    "from sklearn.datasets import make_classification"
   ]
  },
  {
   "cell_type": "code",
   "execution_count": 85,
   "metadata": {
    "collapsed": true
   },
   "outputs": [],
   "source": [
    "X, y = make_classification(n_samples=100000, n_features=10, \n",
    "                           n_informative=4, n_redundant=0, \n",
    "                           random_state=123, class_sep=1.0,\n",
    "                           n_clusters_per_class=1)"
   ]
  },
  {
   "cell_type": "markdown",
   "metadata": {},
   "source": [
    "Покажите сходимость вашего метода: изобразите графики зависимости значения функции потерь (по всей выборке) после очередной итерации/батча/эпохи (выбрать одно) для разных `alpha`."
   ]
  },
  {
   "cell_type": "code",
   "execution_count": null,
   "metadata": {
    "collapsed": true
   },
   "outputs": [],
   "source": [
    "## Your Code Here"
   ]
  },
  {
   "cell_type": "code",
   "execution_count": 456,
   "metadata": {
    "collapsed": false
   },
   "outputs": [
    {
     "data": {
      "text/plain": [
       "array([-1.1985637 ,  0.35566003, -0.12728981])"
      ]
     },
     "execution_count": 456,
     "metadata": {},
     "output_type": "execute_result"
    }
   ],
   "source": [
    "msgd.w"
   ]
  },
  {
   "cell_type": "code",
   "execution_count": 467,
   "metadata": {
    "collapsed": false
   },
   "outputs": [
    {
     "data": {
      "text/plain": [
       "[<matplotlib.lines.Line2D at 0xc24a198>]"
      ]
     },
     "execution_count": 467,
     "metadata": {},
     "output_type": "execute_result"
    },
    {
     "data": {
      "image/png": "[encoded data removed]",
      "text/plain": [
       "<matplotlib.figure.Figure at 0xbfd1e48>"
      ]
     },
     "metadata": {},
     "output_type": "display_data"
    }
   ],
   "source": [
    "space = np.linspace(-4, 4)\n",
    "space_y = -(msgd.w[0] + msgd.w[2] * space) / msgd.w[1]\n",
    "plt.plot(space, space_y)"
   ]
  },
  {
   "cell_type": "markdown",
   "metadata": {},
   "source": [
    "## Эффект регуляризации (2 балла)\n",
    "\n",
    "Изобразите значения коэффициентов модели для каждого С из `np.logspace(3, -3, 10)` (желательно на одном и том же графике)"
   ]
  },
  {
   "cell_type": "code",
   "execution_count": 455,
   "metadata": {
    "collapsed": false
   },
   "outputs": [
    {
     "data": {
      "text/plain": [
       "array([  1.00000000e+03,   2.15443469e+02,   4.64158883e+01,\n",
       "         1.00000000e+01,   2.15443469e+00,   4.64158883e-01,\n",
       "         1.00000000e-01,   2.15443469e-02,   4.64158883e-03,\n",
       "         1.00000000e-03])"
      ]
     },
     "execution_count": 455,
     "metadata": {},
     "output_type": "execute_result"
    }
   ],
   "source": [
    "np.logspace(3, -3, 10)"
   ]
  },
  {
   "cell_type": "code",
   "execution_count": null,
   "metadata": {
    "collapsed": true
   },
   "outputs": [],
   "source": [
    "## Your Code Here\n"
   ]
  },
  {
   "cell_type": "markdown",
   "metadata": {},
   "source": [
    "# Боевое применение"
   ]
  },
  {
   "cell_type": "markdown",
   "metadata": {},
   "source": [
    "## О hearthstone"
   ]
  },
  {
   "cell_type": "markdown",
   "metadata": {},
   "source": [
    "[Hearthstone](http://eu.battle.net/hearthstone/ru/) - карточная он-лайн игра по мотивам вселенной Warcraft.\n",
    "\n",
    "Каждый игрок играет за персонажа определенного класса и собирает колоду карт которую может разыгрывать во время игры. Для дальнейших деталей обратитесь к [wiki](https://ru.wikipedia.org/wiki/Hearthstone), посмотрите youtube или поиграйте сами (но не долго =) ).\n",
    "\n",
    "Теми или иными способами игрок может отнимать жизни у своего оппонента, таким образом цель раунда - побить другого игрока."
   ]
  },
  {
   "cell_type": "markdown",
   "metadata": {},
   "source": [
    "<center><img src='http://ps3hits.ru/wp-content/uploads/2015/08/hearthstone-game-sshot-1.jpg'></center>"
   ]
  },
  {
   "cell_type": "markdown",
   "metadata": {},
   "source": [
    "## Постановка задачи"
   ]
  },
  {
   "cell_type": "markdown",
   "metadata": {},
   "source": [
    "В рамках конференции [AAIA 17](https://fedcsis.org/2017/aaia) было запущено [соревнование](https://knowledgepit.fedcsis.org/contest/view.php?id=120) по предсказанию исхода раунда в heartstone. \n",
    "\n",
    "Используя признаки, которые описывают текущее состояние раунда необходимо предсказать **вероятность** победы игрока в этом раунде.\n",
    "\n",
    "Качество модели измеряется с помощью **ROC-AUC**"
   ]
  },
  {
   "cell_type": "markdown",
   "metadata": {},
   "source": [
    "## Данные\n",
    "\n",
    "Обучающую выборку и тестовую выборку с ответами можно скачать [отсюда](https://cloud.mail.ru/public/BEon/4Rrdqqvng)\n",
    "\n",
    "Данные содержат набор информации о раунде в некоторый момент времени: жизни игрока и оппонента, номер хода, карты на столе, карты в руке игрока, количество карт в руке оппонента и тп.<br/>\n",
    "По игроку №1 (далее просто **игрок**) помимо всего прочего известен набор карт \"в руке\".</br>\n",
    "По игроку №2 (далее просто **оппонент**) эта информация отсутствует.</br>\n",
    "\n",
    "\n",
    "В данных для обучению содержится 2 млн. игр, разбитых на 4 файла. Названия признаков говорят сами за себя.\n",
    "Целевой признак - `decision` (1 - победил игрок, 0 - победил оппонент)."
   ]
  },
  {
   "cell_type": "markdown",
   "metadata": {},
   "source": [
    "## Работа с простыми табличными данными (1 балл)\n",
    "\n",
    "По соображениям сокращения времени вычислений, проделаем основные шаги по одной части данных.\n",
    "\n",
    "Если все данные не будут помещаться вам с оперативную память, то можете использовать один из 4х файлов для обучения"
   ]
  },
  {
   "cell_type": "code",
   "execution_count": null,
   "metadata": {
    "collapsed": true
   },
   "outputs": [],
   "source": [
    "# Загрузка данных целиком\n",
    "# df_list = []\n",
    "# for chunk in range(1,5):\n",
    "#     filepath = './trainingData_tabular_chunk%d.csv' % chunk\n",
    "#     df_list.append(pd.read_csv(filepath, sep=','))\n",
    "# df_data = pd.concat(df_list)\n",
    "\n",
    "# Загрузка одной части данных\n",
    "# filepath = './trainingData_tabular_chunk1.csv'\n",
    "# df_data = pd.read_csv(filepath, sep=',')"
   ]
  },
  {
   "cell_type": "code",
   "execution_count": null,
   "metadata": {
    "collapsed": true
   },
   "outputs": [],
   "source": [
    "df_data.shape"
   ]
  },
  {
   "cell_type": "code",
   "execution_count": null,
   "metadata": {
    "collapsed": true
   },
   "outputs": [],
   "source": [
    "# для удобства\n",
    "df_data.columns = df_data.columns.str.replace('.', '_')\n",
    "df_data = df_data.set_index('gamestate_id')"
   ]
  },
  {
   "cell_type": "code",
   "execution_count": null,
   "metadata": {
    "collapsed": true
   },
   "outputs": [],
   "source": [
    "df_data.head().T"
   ]
  },
  {
   "cell_type": "code",
   "execution_count": null,
   "metadata": {
    "collapsed": true
   },
   "outputs": [],
   "source": [
    "# Распределение классов\n",
    "df_data.decision.mean()\n",
    "\n",
    "# Примерно поровну"
   ]
  },
  {
   "cell_type": "markdown",
   "metadata": {},
   "source": [
    "#### Задание\n",
    "\n",
    "* Определите количество уникальных карт героя у игрока и оппонента.\n",
    "* Преобразуйте категориальные переменные с помощью one-hot кодирования, добавьте к датасету и удалите прежние столбцы\n"
   ]
  },
  {
   "cell_type": "code",
   "execution_count": null,
   "metadata": {
    "collapsed": true
   },
   "outputs": [],
   "source": [
    "## Youd Code Here"
   ]
  },
  {
   "cell_type": "markdown",
   "metadata": {},
   "source": [
    "## Обучение модели (1 балл)"
   ]
  },
  {
   "cell_type": "markdown",
   "metadata": {},
   "source": [
    "#### Задание\n",
    "\n",
    "* Получите матрицу объект признак `X` и вектор целевого признака `y`\n",
    "* Создайте Pipeline из `StandartScaller` и вашей модели\n",
    "* Обучите модель (подбирать гиперпараметры можно без фанатизма)"
   ]
  },
  {
   "cell_type": "code",
   "execution_count": null,
   "metadata": {
    "collapsed": true
   },
   "outputs": [],
   "source": [
    "## Youd Code Here"
   ]
  },
  {
   "cell_type": "markdown",
   "metadata": {},
   "source": [
    "## Применение модели (2 балла)\n",
    "#### Задание\n",
    "* Загрузите тестовые данные\n",
    "* Подготовте их к подаче на вход в алгоритм\n",
    "* Примените модель оцените качество с помощью меры ROC-AUC\n"
   ]
  },
  {
   "cell_type": "code",
   "execution_count": null,
   "metadata": {
    "collapsed": true
   },
   "outputs": [],
   "source": [
    "## Youd Code Here"
   ]
  }
 ],
 "metadata": {
  "anaconda-cloud": {},
  "kernelspec": {
   "display_name": "Python [default]",
   "language": "python",
   "name": "python3"
  },
  "language_info": {
   "codemirror_mode": {
    "name": "ipython",
    "version": 3
   },
   "file_extension": ".py",
   "mimetype": "text/x-python",
   "name": "python",
   "nbconvert_exporter": "python",
   "pygments_lexer": "ipython3",
   "version": "3.5.2"
  },
  "nav_menu": {},
  "toc": {
   "colors": {
    "hover_highlight": "#DAA520",
    "navigate_num": "#000000",
    "navigate_text": "#333333",
    "running_highlight": "#FF0000",
    "selected_highlight": "#FFD700",
    "sidebar_border": "#EEEEEE",
    "wrapper_background": "#FFFFFF"
   },
   "moveMenuLeft": true,
   "nav_menu": {
    "height": "402px",
    "width": "253px"
   },
   "navigate_menu": true,
   "number_sections": false,
   "sideBar": true,
   "threshold": 4,
   "toc_cell": false,
   "toc_section_display": "block",
   "toc_window_display": true,
   "widenNotebook": false
  }
 },
 "nbformat": 4,
 "nbformat_minor": 2
}
